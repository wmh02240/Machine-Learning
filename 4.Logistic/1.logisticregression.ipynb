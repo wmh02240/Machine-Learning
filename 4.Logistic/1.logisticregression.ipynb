{
 "metadata": {
  "language_info": {
   "codemirror_mode": {
    "name": "ipython",
    "version": 3
   },
   "file_extension": ".py",
   "mimetype": "text/x-python",
   "name": "python",
   "nbconvert_exporter": "python",
   "pygments_lexer": "ipython3",
   "version": "3.8.3-final"
  },
  "orig_nbformat": 2,
  "kernelspec": {
   "name": "python38364bitmachinelearningconda97e80b910b014718a000cf4d40b7516b",
   "display_name": "Python 3.8.3 64-bit ('machine_learning': conda)"
  }
 },
 "nbformat": 4,
 "nbformat_minor": 2,
 "cells": [
  {
   "cell_type": "code",
   "execution_count": null,
   "metadata": {},
   "outputs": [],
   "source": [
    "\"\"\"\n",
    "逻辑回归：\n",
    "    概念：解决一个二分类问题、逻辑回归的输入是线性回归的输出\n",
    "    原理：\n",
    "        1.输入：线性回归的输出\n",
    "        2.激活函数：sigmod函数，把整体映射到【0，1】，在设置一个阈值进行分类判断\n",
    "        3.损失：对数似然损失（借助log思想完成，根据真实值0、1两种情况进行划分）  线性回归中是最小二乘法。\n",
    "        4.优化：提升原本属于1的概率、降低原本属于0的概率。\n",
    "\n",
    "逻辑回归api介绍：\n",
    "sklearn.linear_model.LogisticRegression(solver='liblinear', penalty=‘l2’, C = 1.0)\n",
    "    solver可选参数:{'liblinear', 'sag', 'saga','newton-cg', 'lbfgs'}，表示可选的梯度下降法。\n",
    "    默认: 'liblinear'；用于优化问题的算法。\n",
    "    对于小数据集来说，“liblinear”是个不错的选择，而“sag”和'saga'对于大型数据集会更快。\n",
    "    对于多类问题，只有'newton-cg'， 'sag'， 'saga'和'lbfgs'可以处理多项损失;“liblinear”仅限于“one-versus-rest”分类。\n",
    "    penalty：正则化的种类\n",
    "    C：正则化力度\n",
    "\n",
    "默认将类别数量少的当做正例\n",
    "LogisticRegression方法相当于 SGDClassifier(loss=\"log\", penalty=\" \"),SGDClassifier实现了一个普通的随机梯度下降学习。而使用LogisticRegression(实现了SAG)\n",
    "\n",
    "\"\"\""
   ]
  },
  {
   "cell_type": "code",
   "execution_count": 56,
   "metadata": {},
   "outputs": [],
   "source": [
    "import pandas as pd\n",
    "import numpy as np\n",
    "from sklearn.model_selection import train_test_split\n",
    "from sklearn.preprocessing import StandardScaler\n",
    "from sklearn.linear_model import LogisticRegression\n",
    "from sklearn.metrics import classification_report, roc_auc_score\n",
    "\n",
    "import joblib\n",
    "import ssl\n",
    "ssl._create_default_https_context = ssl._create_unverified_context"
   ]
  },
  {
   "cell_type": "code",
   "execution_count": 50,
   "metadata": {},
   "outputs": [
    {
     "output_type": "execute_result",
     "data": {
      "text/plain": "     Sample code number  Clump Thickness  Uniformity of Cell Size  \\\n0               1000025                5                        1   \n1               1002945                5                        4   \n2               1015425                3                        1   \n3               1016277                6                        8   \n4               1017023                4                        1   \n..                  ...              ...                      ...   \n694              776715                3                        1   \n695              841769                2                        1   \n696              888820                5                       10   \n697              897471                4                        8   \n698              897471                4                        8   \n\n     Uniformity of Cell Shape  Marginal Adhesion  Single Epithelial Cell Size  \\\n0                           1                  1                            2   \n1                           4                  5                            7   \n2                           1                  1                            2   \n3                           8                  1                            3   \n4                           1                  3                            2   \n..                        ...                ...                          ...   \n694                         1                  1                            3   \n695                         1                  1                            2   \n696                        10                  3                            7   \n697                         6                  4                            3   \n698                         8                  5                            4   \n\n    Bare Nuclei  Bland Chromatin  Normal Nucleoli  Mitoses  Class  \n0             1                3                1        1      2  \n1            10                3                2        1      2  \n2             2                3                1        1      2  \n3             4                3                7        1      2  \n4             1                3                1        1      2  \n..          ...              ...              ...      ...    ...  \n694           2                1                1        1      2  \n695           1                1                1        1      2  \n696           3                8               10        2      4  \n697           4               10                6        1      4  \n698           5               10                4        1      4  \n\n[699 rows x 11 columns]",
      "text/html": "<div>\n<style scoped>\n    .dataframe tbody tr th:only-of-type {\n        vertical-align: middle;\n    }\n\n    .dataframe tbody tr th {\n        vertical-align: top;\n    }\n\n    .dataframe thead th {\n        text-align: right;\n    }\n</style>\n<table border=\"1\" class=\"dataframe\">\n  <thead>\n    <tr style=\"text-align: right;\">\n      <th></th>\n      <th>Sample code number</th>\n      <th>Clump Thickness</th>\n      <th>Uniformity of Cell Size</th>\n      <th>Uniformity of Cell Shape</th>\n      <th>Marginal Adhesion</th>\n      <th>Single Epithelial Cell Size</th>\n      <th>Bare Nuclei</th>\n      <th>Bland Chromatin</th>\n      <th>Normal Nucleoli</th>\n      <th>Mitoses</th>\n      <th>Class</th>\n    </tr>\n  </thead>\n  <tbody>\n    <tr>\n      <th>0</th>\n      <td>1000025</td>\n      <td>5</td>\n      <td>1</td>\n      <td>1</td>\n      <td>1</td>\n      <td>2</td>\n      <td>1</td>\n      <td>3</td>\n      <td>1</td>\n      <td>1</td>\n      <td>2</td>\n    </tr>\n    <tr>\n      <th>1</th>\n      <td>1002945</td>\n      <td>5</td>\n      <td>4</td>\n      <td>4</td>\n      <td>5</td>\n      <td>7</td>\n      <td>10</td>\n      <td>3</td>\n      <td>2</td>\n      <td>1</td>\n      <td>2</td>\n    </tr>\n    <tr>\n      <th>2</th>\n      <td>1015425</td>\n      <td>3</td>\n      <td>1</td>\n      <td>1</td>\n      <td>1</td>\n      <td>2</td>\n      <td>2</td>\n      <td>3</td>\n      <td>1</td>\n      <td>1</td>\n      <td>2</td>\n    </tr>\n    <tr>\n      <th>3</th>\n      <td>1016277</td>\n      <td>6</td>\n      <td>8</td>\n      <td>8</td>\n      <td>1</td>\n      <td>3</td>\n      <td>4</td>\n      <td>3</td>\n      <td>7</td>\n      <td>1</td>\n      <td>2</td>\n    </tr>\n    <tr>\n      <th>4</th>\n      <td>1017023</td>\n      <td>4</td>\n      <td>1</td>\n      <td>1</td>\n      <td>3</td>\n      <td>2</td>\n      <td>1</td>\n      <td>3</td>\n      <td>1</td>\n      <td>1</td>\n      <td>2</td>\n    </tr>\n    <tr>\n      <th>...</th>\n      <td>...</td>\n      <td>...</td>\n      <td>...</td>\n      <td>...</td>\n      <td>...</td>\n      <td>...</td>\n      <td>...</td>\n      <td>...</td>\n      <td>...</td>\n      <td>...</td>\n      <td>...</td>\n    </tr>\n    <tr>\n      <th>694</th>\n      <td>776715</td>\n      <td>3</td>\n      <td>1</td>\n      <td>1</td>\n      <td>1</td>\n      <td>3</td>\n      <td>2</td>\n      <td>1</td>\n      <td>1</td>\n      <td>1</td>\n      <td>2</td>\n    </tr>\n    <tr>\n      <th>695</th>\n      <td>841769</td>\n      <td>2</td>\n      <td>1</td>\n      <td>1</td>\n      <td>1</td>\n      <td>2</td>\n      <td>1</td>\n      <td>1</td>\n      <td>1</td>\n      <td>1</td>\n      <td>2</td>\n    </tr>\n    <tr>\n      <th>696</th>\n      <td>888820</td>\n      <td>5</td>\n      <td>10</td>\n      <td>10</td>\n      <td>3</td>\n      <td>7</td>\n      <td>3</td>\n      <td>8</td>\n      <td>10</td>\n      <td>2</td>\n      <td>4</td>\n    </tr>\n    <tr>\n      <th>697</th>\n      <td>897471</td>\n      <td>4</td>\n      <td>8</td>\n      <td>6</td>\n      <td>4</td>\n      <td>3</td>\n      <td>4</td>\n      <td>10</td>\n      <td>6</td>\n      <td>1</td>\n      <td>4</td>\n    </tr>\n    <tr>\n      <th>698</th>\n      <td>897471</td>\n      <td>4</td>\n      <td>8</td>\n      <td>8</td>\n      <td>5</td>\n      <td>4</td>\n      <td>5</td>\n      <td>10</td>\n      <td>4</td>\n      <td>1</td>\n      <td>4</td>\n    </tr>\n  </tbody>\n</table>\n<p>699 rows × 11 columns</p>\n</div>"
     },
     "metadata": {},
     "execution_count": 50
    }
   ],
   "source": [
    "# 1.获取数据\n",
    "names = ['Sample code number', 'Clump Thickness', 'Uniformity of Cell Size', 'Uniformity of Cell Shape', 'Marginal Adhesion', 'Single Epithelial Cell Size', 'Bare Nuclei', 'Bland Chromatin', 'Normal Nucleoli', 'Mitoses', 'Class']\n",
    "\n",
    "data = pd.read_csv(\"https://archive.ics.uci.edu/ml/machine-learning-databases/breast-cancer-wisconsin/breast-cancer-wisconsin.data\", names=names)\n",
    "data.head(10)\n",
    "# data"
   ]
  },
  {
   "cell_type": "code",
   "execution_count": 49,
   "metadata": {},
   "outputs": [],
   "source": [
    "# 2.基本数据处理\n",
    "# 2.1 缺失值处理\n",
    "data = data.replace(to_replace=\"?\", value=np.NaN)\n",
    "data = data.dropna()\n",
    "# 2.2 确定特征值,目标值\n",
    "x = data.iloc[:, 1:10]\n",
    "x.head()\n",
    "y = data[\"Class\"]\n",
    "y.head()\n",
    "# 2.3 分割数据\n",
    "x_train, x_test, y_train, y_test = train_test_split(x, y, random_state=22)"
   ]
  },
  {
   "cell_type": "code",
   "execution_count": 11,
   "metadata": {},
   "outputs": [],
   "source": [
    "# 3.特征工程(标准化)\n",
    "transfer = StandardScaler()\n",
    "x_train = transfer.fit_transform(x_train)\n",
    "x_test = transfer.transform(x_test)"
   ]
  },
  {
   "cell_type": "code",
   "execution_count": 40,
   "metadata": {},
   "outputs": [
    {
     "output_type": "execute_result",
     "data": {
      "text/plain": "['./model.pkl']"
     },
     "metadata": {},
     "execution_count": 40
    }
   ],
   "source": [
    "# 4.机器学习(逻辑回归)\n",
    "estimator = LogisticRegression()\n",
    "estimator.fit(x_train, y_train)\n",
    "\n",
    "# 4.1 模型保存\n",
    "joblib.dump(estimator, \"./model.pkl\")"
   ]
  },
  {
   "cell_type": "code",
   "execution_count": 41,
   "metadata": {
    "tags": []
   },
   "outputs": [],
   "source": [
    "# 4.3 模型加载\n",
    "estimator = joblib.load(r\"./model.pkl\")"
   ]
  },
  {
   "cell_type": "code",
   "execution_count": 46,
   "metadata": {
    "tags": []
   },
   "outputs": [
    {
     "output_type": "stream",
     "name": "stdout",
     "text": "389    2\n32     4\n272    4\n655    2\n271    2\n      ..\n296    2\n585    2\n256    2\n43     4\n691    4\nName: Class, Length: 171, dtype: int64 [2 4 4 2 2 2 2 2 2 2 2 2 2 4 2 2 4 4 4 2 4 2 4 4 4 2 4 2 2 2 2 2 4 2 2 2 4\n 2 2 2 2 4 2 4 4 4 4 2 4 4 2 2 2 2 2 4 2 2 2 2 4 4 4 4 2 4 2 2 4 2 2 2 2 4\n 2 2 2 2 2 2 4 4 4 2 4 4 4 4 2 2 2 4 2 4 2 2 2 2 2 2 4 2 2 4 2 2 4 2 4 4 2\n 2 2 2 4 2 2 2 2 2 2 4 2 4 2 2 2 4 2 4 2 2 2 4 2 2 2 2 2 2 2 2 2 2 2 4 2 4\n 2 2 4 4 4 2 2 4 4 2 4 4 2 2 2 2 2 4 4 2 2 2 4]\n0.9766081871345029\n"
    }
   ],
   "source": [
    "# 5.模型评估\n",
    "# 5.1基本评估\n",
    "y_predict = estimator.predict(x_test)\n",
    "print(y_test, y_predict)\n",
    "print(estimator.score(x_test, y_test))"
   ]
  },
  {
   "cell_type": "code",
   "execution_count": 53,
   "metadata": {
    "tags": []
   },
   "outputs": [
    {
     "output_type": "stream",
     "name": "stdout",
     "text": "precision    recall  f1-score   support\n\n          良性       0.98      0.98      0.98       111\n          恶性       0.97      0.97      0.97        60\n\n    accuracy                           0.98       171\n   macro avg       0.97      0.97      0.97       171\nweighted avg       0.98      0.98      0.98       171\n\n"
    }
   ],
   "source": [
    "# 5.2其他评估\n",
    "ret = classification_report(y_test, y_predict, labels=(2, 4), target_names=(\"良性\", \"恶性\"))\n",
    "print(ret)"
   ]
  },
  {
   "cell_type": "code",
   "execution_count": 57,
   "metadata": {},
   "outputs": [
    {
     "output_type": "execute_result",
     "data": {
      "text/plain": "0.9743243243243243"
     },
     "metadata": {},
     "execution_count": 57
    }
   ],
   "source": [
    "# AUC计算API\n",
    "    # from sklearn.metrics import roc_auc_score\n",
    "    # sklearn.metrics.roc_auc_score(y_true, y_score)\n",
    "    # 计算ROC曲线面积，即AUC值\n",
    "    # y_true：每个样本的真实类别，必须为0(反例),1(正例)标记\n",
    "    # y_score：预测得分，可以是正类的估计概率、置信值或者分类器方法的返回值\n",
    "\n",
    "\n",
    "# 不平衡二分类问题评估\n",
    "y_test = np.where(y_test>3.0, 1, 0)\n",
    "roc_auc_score(y_true=y_test, y_score=y_predict)"
   ]
  },
  {
   "cell_type": "code",
   "execution_count": null,
   "metadata": {},
   "outputs": [],
   "source": [
    "# 总结\n",
    "    # AUC只能用来评价二分类\n",
    "    # AUC非常适合评价样本不平衡中的分类器性能"
   ]
  }
 ]
}