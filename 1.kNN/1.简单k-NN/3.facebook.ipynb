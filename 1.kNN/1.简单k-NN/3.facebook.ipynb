{
 "metadata": {
  "language_info": {
   "codemirror_mode": {
    "name": "ipython",
    "version": 3
   },
   "file_extension": ".py",
   "mimetype": "text/x-python",
   "name": "python",
   "nbconvert_exporter": "python",
   "pygments_lexer": "ipython3",
   "version": "3.8.3-final"
  },
  "orig_nbformat": 2,
  "kernelspec": {
   "name": "python38364bitmachinelearningconda97e80b910b014718a000cf4d40b7516b",
   "display_name": "Python 3.8.3 64-bit ('machine_learning': conda)"
  }
 },
 "nbformat": 4,
 "nbformat_minor": 2,
 "cells": [
  {
   "cell_type": "code",
   "execution_count": 1,
   "metadata": {},
   "outputs": [],
   "source": [
    "import pandas as pd\n",
    "from sklearn.model_selection import train_test_split, GridSearchCV\n",
    "from sklearn.preprocessing import StandardScaler\n",
    "from sklearn.neighbors import KNeighborsClassifier"
   ]
  },
  {
   "cell_type": "code",
   "execution_count": 3,
   "metadata": {
    "tags": []
   },
   "outputs": [
    {
     "output_type": "stream",
     "name": "stdout",
     "text": "row_id       x       y  accuracy    time    place_id\n0       0  0.7941  9.0809        54  470702  8523065625\n1       1  5.9567  4.7968        13  186555  1757726713\n2       2  8.3078  7.0407        74  322648  1137537235\n3       3  7.3665  2.5165        65  704587  6567393236\n4       4  4.0961  1.1307        31  472130  7440663949\n"
    }
   ],
   "source": [
    "facebook_data = pd.read_csv(r\"./train.csv\")\n",
    "print(facebook_data.head())\n",
    "print(facebook_data.describe())\n",
    "print(facebook_data.shape)"
   ]
  },
  {
   "cell_type": "code",
   "execution_count": 4,
   "metadata": {
    "tags": []
   },
   "outputs": [
    {
     "output_type": "stream",
     "name": "stdout",
     "text": "end\n"
    }
   ],
   "source": [
    "# 2.基本数据处理\n",
    "# 2.1 缩小数据范围\n",
    "facebook_data = facebook_data.query(\"x>2.0 & x<3.0 & y>2.0 & y<3.0\")\n",
    "# 2.2 选择时间特征\n",
    "time = pd.to_datetime(facebook_data[\"time\"], unit=\"s\")\n",
    "time = pd.DatetimeIndex(time)\n",
    "facebook_data[\"day\"] = time.day\n",
    "facebook_data[\"hour\"] = time.hour\n",
    "facebook_data[\"weekday\"] = time.weekday\n",
    "# 2.3 去掉签到较少的地方\n",
    "place_count = facebook_data.groupby(\"place_id\").count()\n",
    "place_count = place_count[place_count[\"row_id\"]>3]\n",
    "facebook_data = facebook_data[facebook_data[\"place_id\"].isin(place_count.index)]\n",
    "# 2.4 确定特征值和目标值\n",
    "x = facebook_data[[\"x\", \"y\", \"accuracy\", \"day\", \"hour\", \"weekday\"]]\n",
    "y = facebook_data[\"place_id\"]\n",
    "# 2.5 分割数据集\n",
    "x_train, x_test, y_train, y_test = train_test_split(x, y, random_state=22)\n",
    "print(\"end\")"
   ]
  },
  {
   "cell_type": "code",
   "execution_count": 16,
   "metadata": {
    "tags": []
   },
   "outputs": [
    {
     "output_type": "stream",
     "name": "stdout",
     "text": "end\n"
    }
   ],
   "source": [
    "# 3.特征工程--特征预处理(标准化)\n",
    "# 3.1 实例化一个转换器\n",
    "transfer = StandardScaler()\n",
    "# 3.2 调用fit_transform\n",
    "x_train = transfer.fit_transform(x_train)\n",
    "x_test = transfer.fit_transform(x_test)\n",
    "print(\"end\")"
   ]
  },
  {
   "cell_type": "code",
   "execution_count": 5,
   "metadata": {
    "tags": []
   },
   "outputs": [
    {
     "output_type": "stream",
     "name": "stdout",
     "text": "end\n"
    }
   ],
   "source": [
    "# 4.机器学习--knn+cv\n",
    "# 4.1 实例化一个估计器\n",
    "estimator = KNeighborsClassifier()\n",
    "# 4.2 调用gridsearchCV\n",
    "param_grid = {\"n_neighbors\": [1, 3, 5, 7, 9]}\n",
    "estimator = GridSearchCV(estimator, param_grid=param_grid, cv=5)\n",
    "# 4.3 模型训练\n",
    "estimator.fit(x_train, y_train)\n",
    "print(\"end\")"
   ]
  },
  {
   "cell_type": "code",
   "execution_count": 6,
   "metadata": {
    "tags": []
   },
   "outputs": [
    {
     "output_type": "stream",
     "name": "stdout",
     "text": "最后预测的准确率为:\n 0.050532740250336196\n最后的预测值为:\n [5744239220 2886369243 9705652811 ... 9513239029 1824346612 8008821465]\n预测值和真实值的对比情况:\n 7291186     False\n18194106    False\n20486694    False\n12603090    False\n2978665     False\n            ...  \n27681281    False\n15387863    False\n17263277    False\n19158375    False\n10654424    False\nName: place_id, Length: 77336, dtype: bool\n在交叉验证中验证的最好结果:\n 0.042136849577449245\n最好的参数模型:\n KNeighborsClassifier(n_neighbors=1)\n每次交叉验证后的验证集准确率结果和训练集准确率结果:\n {'mean_fit_time': array([0.77940254, 0.7447834 , 0.75319128, 0.74901857, 0.74397931]), 'std_fit_time': array([0.0373405 , 0.01491085, 0.02384232, 0.0169693 , 0.01438919]), 'mean_score_time': array([1.82975025, 1.93859925, 2.07061396, 2.11860442, 2.20802932]), 'std_score_time': array([0.04748492, 0.01719793, 0.08460097, 0.01314843, 0.01575088]), 'param_n_neighbors': masked_array(data=[1, 3, 5, 7, 9],\n             mask=[False, False, False, False, False],\n       fill_value='?',\n            dtype=object), 'params': [{'n_neighbors': 1}, {'n_neighbors': 3}, {'n_neighbors': 5}, {'n_neighbors': 7}, {'n_neighbors': 9}], 'split0_test_score': array([0.04021378, 0.01948192, 0.01508556, 0.01415887, 0.01508556]), 'split1_test_score': array([0.04262839, 0.02096938, 0.01650826, 0.01553846, 0.0153445 ]), 'split2_test_score': array([0.04327493, 0.02040904, 0.01635741, 0.01575397, 0.01609879]), 'split3_test_score': array([0.04127066, 0.02002112, 0.01620655, 0.01517209, 0.01536605]), 'split4_test_score': array([0.04329648, 0.0205599 , 0.01657292, 0.01487037, 0.01525829]), 'mean_test_score': array([0.04213685, 0.02028827, 0.01614614, 0.01509875, 0.01543064]), 'std_test_score': array([0.00121079, 0.00050475, 0.00054523, 0.00055921, 0.00034837]), 'rank_test_score': array([1, 2, 3, 5, 4])}\n"
    }
   ],
   "source": [
    "# 5.模型评估\n",
    "# 5.1 基本评估方式\n",
    "score = estimator.score(x_test, y_test)\n",
    "print(\"最后预测的准确率为:\\n\", score)\n",
    "\n",
    "\n",
    "y_predict = estimator.predict(x_test)\n",
    "print(\"最后的预测值为:\\n\", y_predict)\n",
    "print(\"预测值和真实值的对比情况:\\n\", y_predict == y_test)\n",
    "\n",
    "# 5.2 使用交叉验证后的评估方式\n",
    "print(\"在交叉验证中验证的最好结果:\\n\", estimator.best_score_)\n",
    "print(\"最好的参数模型:\\n\", estimator.best_estimator_)\n",
    "print(\"每次交叉验证后的验证集准确率结果和训练集准确率结果:\\n\",estimator.cv_results_)"
   ]
  },
  {
   "cell_type": "code",
   "execution_count": null,
   "metadata": {},
   "outputs": [],
   "source": []
  }
 ]
}